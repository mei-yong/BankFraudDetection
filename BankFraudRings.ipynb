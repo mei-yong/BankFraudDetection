{
 "cells": [
  {
   "cell_type": "markdown",
   "metadata": {},
   "source": [
    "# Identifying Fraudulent Bank Accounts\n",
    "Author: Mei Yong <br>\n",
    "https://github.com/mei-yong/BankFraudDetection\n",
    "* As part of Know-Your-Customer checks or when a customer applies for a new line of credit\n",
    "* Based on fraud ring detection logic\n",
    "    * A group of people who mix and match a set of legitimate identification documents to create fake accounts. e.g. person A and B collaborate to create a new fake person C using person A's mobile and person B's social security number (could also be stolen IDs)\n",
    "    * Difficult to use outlier analysis to catch these cases because when looking at fake person C on its own, they look perfectly normal as a customer. So when they build a seemingly legitimate credit score and request a huge loan in the future, the bank gives them the loan and they take the money and disappear.\n",
    "\n",
    "* Used the below tutorial as a foundation\n",
    "    * https://github.com/neo4j-contrib/gists/blob/master/other/BankFraudDetection.adoc"
   ]
  },
  {
   "cell_type": "markdown",
   "metadata": {},
   "source": [
    "# Initial Setup"
   ]
  },
  {
   "cell_type": "code",
   "execution_count": 1,
   "metadata": {},
   "outputs": [],
   "source": [
    "# Import libraries\n",
    "import pandas as pd\n",
    "from py2neo import Graph\n",
    "from IPython.display import Image"
   ]
  },
  {
   "cell_type": "code",
   "execution_count": 2,
   "metadata": {},
   "outputs": [],
   "source": [
    "# Initialise the graph db\n",
    "uri = \"bolt://localhost:7687\"\n",
    "user = \"neo4j\"\n",
    "password = \"password\"\n",
    "graph = Graph(uri=uri, user=user, password=password)"
   ]
  },
  {
   "cell_type": "code",
   "execution_count": 3,
   "metadata": {},
   "outputs": [
    {
     "data": {
      "text/plain": [
       "0"
      ]
     },
     "execution_count": 3,
     "metadata": {},
     "output_type": "execute_result"
    }
   ],
   "source": [
    "# Test Neo4j connection\n",
    "query = \"MATCH (n) RETURN COUNT(n) AS numberOfNodes\"\n",
    "graph.run(query).evaluate()"
   ]
  },
  {
   "cell_type": "code",
   "execution_count": 4,
   "metadata": {},
   "outputs": [
    {
     "data": {
      "text/plain": [
       "{'First_Name': 'John',\n",
       " 'Bank_Account': '2.34568E+15',\n",
       " 'Address_City': 'London',\n",
       " 'Last_Name': 'Doe',\n",
       " 'UKID': '345-45-3456',\n",
       " 'Address_Postcode': 'EC1 123',\n",
       " 'Credit_Card': '1.23457E+15',\n",
       " 'Phone_Number': '555-555-5555',\n",
       " 'ID': '1001',\n",
       " 'Address_Street': '123 Random Street',\n",
       " 'Unsecured_Loan': None}"
      ]
     },
     "execution_count": 4,
     "metadata": {},
     "output_type": "execute_result"
    }
   ],
   "source": [
    "# Test connection between Neo4j and CSV file location\n",
    "query = '''\n",
    "LOAD CSV WITH HEADERS FROM\n",
    "\"https://raw.githubusercontent.com/mei-yong/BankFraudDetection/master/data/customers.csv\"\n",
    "AS row WITH row LIMIT 1 RETURN row\n",
    "'''\n",
    "graph.run(query).evaluate()"
   ]
  },
  {
   "cell_type": "markdown",
   "metadata": {},
   "source": [
    "# Build the base graph db"
   ]
  },
  {
   "cell_type": "code",
   "execution_count": 5,
   "metadata": {},
   "outputs": [
    {
     "data": {
      "text/plain": [
       "<py2neo.database.Cursor at 0x244b0689e88>"
      ]
     },
     "execution_count": 5,
     "metadata": {},
     "output_type": "execute_result"
    }
   ],
   "source": [
    "# Create uniqueness constraints & indexes\n",
    "graph.run(\"CREATE CONSTRAINT ON (a:AccountHolder) ASSERT a.id IS UNIQUE\")\n",
    "graph.run(\"CREATE CONSTRAINT ON (t:PhoneNumber) ASSERT t.number IS UNIQUE\")\n",
    "graph.run(\"CREATE CONSTRAINT ON (id:UKID) ASSERT id.id IS UNIQUE\")\n",
    "graph.run(\"CREATE CONSTRAINT ON (b:BankAccount) ASSERT b.id IS UNIQUE\")\n",
    "graph.run(\"CREATE CONSTRAINT ON (c:CreditCard) ASSERT c.id IS UNIQUE\")\n",
    "graph.run(\"CREATE CONSTRAINT ON (l:UnsecuredLoan) ASSERT l.id IS UNIQUE\")"
   ]
  },
  {
   "cell_type": "code",
   "execution_count": 6,
   "metadata": {},
   "outputs": [
    {
     "data": {
      "text/plain": [
       "<py2neo.database.Cursor at 0x244b0691388>"
      ]
     },
     "execution_count": 6,
     "metadata": {},
     "output_type": "execute_result"
    }
   ],
   "source": [
    "# Create account holder nodes\n",
    "query = '''\n",
    "USING PERIODIC COMMIT 500\n",
    "LOAD CSV WITH HEADERS\n",
    "FROM \"https://raw.githubusercontent.com/mei-yong/BankFraudDetection/master/data/customers.csv\" AS row\n",
    "MERGE (a:AccountHolder { id: toInteger(row.ID) })\n",
    "ON CREATE SET\n",
    "    a.first_name = row.First_Name,\n",
    "    a.last_name = row.Last_Name    \n",
    "'''\n",
    "graph.run(query)"
   ]
  },
  {
   "cell_type": "code",
   "execution_count": 7,
   "metadata": {},
   "outputs": [
    {
     "data": {
      "text/plain": [
       "<py2neo.database.Cursor at 0x244b0691bc8>"
      ]
     },
     "execution_count": 7,
     "metadata": {},
     "output_type": "execute_result"
    }
   ],
   "source": [
    "# Create address nodes - would be better with a unique ID probably\n",
    "query = '''\n",
    "USING PERIODIC COMMIT 500\n",
    "LOAD CSV WITH HEADERS\n",
    "FROM \"https://raw.githubusercontent.com/mei-yong/BankFraudDetection/master/data/customers.csv\" AS row\n",
    "MERGE (a:Address { street: row.Address_Street})\n",
    "ON CREATE SET\n",
    "    a.city = row.Address_City,\n",
    "    a.postcode = row.Address_Postcode    \n",
    "'''\n",
    "graph.run(query)"
   ]
  },
  {
   "cell_type": "code",
   "execution_count": 8,
   "metadata": {},
   "outputs": [
    {
     "data": {
      "text/plain": [
       "<py2neo.database.Cursor at 0x244b0689648>"
      ]
     },
     "execution_count": 8,
     "metadata": {},
     "output_type": "execute_result"
    }
   ],
   "source": [
    "# Create telephone number nodes\n",
    "query = '''\n",
    "USING PERIODIC COMMIT 500\n",
    "LOAD CSV WITH HEADERS\n",
    "FROM \"https://raw.githubusercontent.com/mei-yong/BankFraudDetection/master/data/customers.csv\" AS row\n",
    "MERGE (:PhoneNumber { number: row.Phone_Number})  \n",
    "'''\n",
    "graph.run(query)"
   ]
  },
  {
   "cell_type": "code",
   "execution_count": 9,
   "metadata": {},
   "outputs": [
    {
     "data": {
      "text/plain": [
       "<py2neo.database.Cursor at 0x244b0692e08>"
      ]
     },
     "execution_count": 9,
     "metadata": {},
     "output_type": "execute_result"
    }
   ],
   "source": [
    "# Create UK ID nodes - replace this with more realistic national insurance numbers\n",
    "query = '''\n",
    "USING PERIODIC COMMIT 500\n",
    "LOAD CSV WITH HEADERS\n",
    "FROM \"https://raw.githubusercontent.com/mei-yong/BankFraudDetection/master/data/customers.csv\" AS row\n",
    "MERGE (u:UKID { id: row.UKID})  \n",
    "'''\n",
    "graph.run(query)"
   ]
  },
  {
   "cell_type": "code",
   "execution_count": 10,
   "metadata": {},
   "outputs": [
    {
     "data": {
      "text/plain": [
       "<py2neo.database.Cursor at 0x244b0692ac8>"
      ]
     },
     "execution_count": 10,
     "metadata": {},
     "output_type": "execute_result"
    }
   ],
   "source": [
    "# Create bank account nodes\n",
    "query = '''\n",
    "USING PERIODIC COMMIT 500\n",
    "LOAD CSV WITH HEADERS\n",
    "FROM \"https://raw.githubusercontent.com/mei-yong/BankFraudDetection/master/data/bank_accounts.csv\" AS row\n",
    "MERGE (b:BankAccount { id: row.Account_ID})\n",
    "ON CREATE SET\n",
    "    b.balance = toFloat(row.Balance)\n",
    "'''\n",
    "graph.run(query)"
   ]
  },
  {
   "cell_type": "code",
   "execution_count": 11,
   "metadata": {},
   "outputs": [
    {
     "data": {
      "text/plain": [
       "<py2neo.database.Cursor at 0x244b0689948>"
      ]
     },
     "execution_count": 11,
     "metadata": {},
     "output_type": "execute_result"
    }
   ],
   "source": [
    "# Create credit card nodes\n",
    "query = '''\n",
    "USING PERIODIC COMMIT 500\n",
    "LOAD CSV WITH HEADERS\n",
    "FROM \"https://raw.githubusercontent.com/mei-yong/BankFraudDetection/master/data/credit.csv\" AS row\n",
    "MERGE (c:CreditCard { id: row.Credit_Card_Num})\n",
    "ON CREATE SET\n",
    "    c.limit = toFloat(row.Limit),\n",
    "    c.balance = toFloat(row.Balance),\n",
    "    c.expiration_date = row.Expiration_Date,\n",
    "    c.security_code = row.Security_Code\n",
    "'''\n",
    "graph.run(query)"
   ]
  },
  {
   "cell_type": "code",
   "execution_count": 12,
   "metadata": {},
   "outputs": [
    {
     "data": {
      "text/plain": [
       "<py2neo.database.Cursor at 0x244b0691a48>"
      ]
     },
     "execution_count": 12,
     "metadata": {},
     "output_type": "execute_result"
    }
   ],
   "source": [
    "# Create loan nodes\n",
    "query = '''\n",
    "USING PERIODIC COMMIT 500\n",
    "LOAD CSV WITH HEADERS\n",
    "FROM \"https://raw.githubusercontent.com/mei-yong/BankFraudDetection/master/data/loans.csv\" AS row\n",
    "MERGE (l:UnsecuredLoan { id: row.Loan_ID})\n",
    "ON CREATE SET\n",
    "    l.balance = toFloat(row.Balance),\n",
    "    l.apr = toFloat(row.APR),\n",
    "    l.amount = toFLoat(row.Amount)\n",
    "'''\n",
    "graph.run(query)"
   ]
  },
  {
   "cell_type": "code",
   "execution_count": 13,
   "metadata": {},
   "outputs": [
    {
     "data": {
      "text/plain": [
       "<py2neo.database.Cursor at 0x244b0689d08>"
      ]
     },
     "execution_count": 13,
     "metadata": {},
     "output_type": "execute_result"
    }
   ],
   "source": [
    "# Create relationships between account holders and addresses\n",
    "query = '''\n",
    "USING PERIODIC COMMIT 500\n",
    "LOAD CSV WITH HEADERS\n",
    "FROM \"https://raw.githubusercontent.com/mei-yong/BankFraudDetection/master/data/customers.csv\" AS row\n",
    "MATCH (a:AccountHolder { id: toInteger(row.ID) })\n",
    "MATCH (address:Address { street: row.Address_Street})\n",
    "MERGE (a)-[:HAS_ADDRESS]->(address) \n",
    "'''\n",
    "graph.run(query)"
   ]
  },
  {
   "cell_type": "code",
   "execution_count": 14,
   "metadata": {},
   "outputs": [
    {
     "data": {
      "text/plain": [
       "<py2neo.database.Cursor at 0x244ade71a48>"
      ]
     },
     "execution_count": 14,
     "metadata": {},
     "output_type": "execute_result"
    }
   ],
   "source": [
    "# Create relationships between account holders and phone numbers\n",
    "query = '''\n",
    "USING PERIODIC COMMIT 500\n",
    "LOAD CSV WITH HEADERS\n",
    "FROM \"https://raw.githubusercontent.com/mei-yong/BankFraudDetection/master/data/customers.csv\" AS row\n",
    "MATCH (a:AccountHolder { id: toInteger(row.ID) })\n",
    "MATCH (t:PhoneNumber { number: row.Phone_Number})  \n",
    "MERGE (a)-[:HAS_PHONENUMBER]->(t) \n",
    "'''\n",
    "graph.run(query)"
   ]
  },
  {
   "cell_type": "code",
   "execution_count": 15,
   "metadata": {},
   "outputs": [
    {
     "data": {
      "text/plain": [
       "<py2neo.database.Cursor at 0x244b0699ec8>"
      ]
     },
     "execution_count": 15,
     "metadata": {},
     "output_type": "execute_result"
    }
   ],
   "source": [
    "# Create relationships between account holders and UK IDs\n",
    "query = '''\n",
    "USING PERIODIC COMMIT 500\n",
    "LOAD CSV WITH HEADERS\n",
    "FROM \"https://raw.githubusercontent.com/mei-yong/BankFraudDetection/master/data/customers.csv\" AS row\n",
    "MATCH (a:AccountHolder { id: toInteger(row.ID) })\n",
    "MATCH (u:UKID { id: row.UKID})   \n",
    "MERGE (a)-[:HAS_UKID]->(u) \n",
    "'''\n",
    "graph.run(query)"
   ]
  },
  {
   "cell_type": "code",
   "execution_count": 16,
   "metadata": {},
   "outputs": [
    {
     "data": {
      "text/plain": [
       "<py2neo.database.Cursor at 0x244b065cac8>"
      ]
     },
     "execution_count": 16,
     "metadata": {},
     "output_type": "execute_result"
    }
   ],
   "source": [
    "# Create relationships between account holders and bank account IDs\n",
    "query = '''\n",
    "USING PERIODIC COMMIT 500\n",
    "LOAD CSV WITH HEADERS\n",
    "FROM \"https://raw.githubusercontent.com/mei-yong/BankFraudDetection/master/data/customers.csv\" AS row\n",
    "MATCH (a:AccountHolder { id: toInteger(row.ID) })\n",
    "MATCH (b:BankAccount { id: row.Bank_Account})\n",
    "MERGE (a)-[:HAS_BANKACCOUNT]->(b) \n",
    "'''\n",
    "graph.run(query)"
   ]
  },
  {
   "cell_type": "code",
   "execution_count": 17,
   "metadata": {},
   "outputs": [
    {
     "data": {
      "text/plain": [
       "<py2neo.database.Cursor at 0x244b06a0ec8>"
      ]
     },
     "execution_count": 17,
     "metadata": {},
     "output_type": "execute_result"
    }
   ],
   "source": [
    "# Create relationships between account holders and credit card IDs\n",
    "query = '''\n",
    "USING PERIODIC COMMIT 500\n",
    "LOAD CSV WITH HEADERS\n",
    "FROM \"https://raw.githubusercontent.com/mei-yong/BankFraudDetection/master/data/customers.csv\" AS row\n",
    "MATCH (a:AccountHolder { id: toInteger(row.ID) })\n",
    "MATCH (c:CreditCard { id: row.Credit_Card})\n",
    "MERGE (a)-[:HAS_CREDITCARD]->(c) \n",
    "'''\n",
    "graph.run(query)"
   ]
  },
  {
   "cell_type": "code",
   "execution_count": 18,
   "metadata": {},
   "outputs": [
    {
     "data": {
      "text/plain": [
       "<py2neo.database.Cursor at 0x244b06a0e48>"
      ]
     },
     "execution_count": 18,
     "metadata": {},
     "output_type": "execute_result"
    }
   ],
   "source": [
    "# Create relationships between account holders and loan IDs\n",
    "query = '''\n",
    "USING PERIODIC COMMIT 500\n",
    "LOAD CSV WITH HEADERS\n",
    "FROM \"https://raw.githubusercontent.com/mei-yong/BankFraudDetection/master/data/customers.csv\" AS row\n",
    "MATCH (a:AccountHolder { id: toInteger(row.ID) })\n",
    "MATCH (l:UnsecuredLoan { id: row.Unsecured_Loan})\n",
    "MERGE (a)-[:HAS_UNSECUREDLOAN]->(l) \n",
    "'''\n",
    "graph.run(query)"
   ]
  },
  {
   "cell_type": "markdown",
   "metadata": {},
   "source": [
    "# Query the db"
   ]
  },
  {
   "cell_type": "code",
   "execution_count": 19,
   "metadata": {},
   "outputs": [
    {
     "name": "stdout",
     "output_type": "stream",
     "text": [
      "<Record FraudRing=[1003, 1002, 1001] ContactType=['Address'] RingSize=3>\n",
      "<Record FraudRing=[1002, 1001] ContactType=['PhoneNumber'] RingSize=2>\n",
      "<Record FraudRing=[1003, 1002] ContactType=['UKID'] RingSize=2>\n"
     ]
    }
   ],
   "source": [
    "# Find account holders who share more than one piece of legitimate contact information\n",
    "query = '''\n",
    "MATCH (accountHolder:AccountHolder)-[]->(contactInformation)\n",
    "WITH contactInformation,\n",
    "    count(accountHolder) AS RingSize\n",
    "MATCH (contactInformation)<-[]-(accountHolder)\n",
    "WITH collect(accountHolder.id) AS AccountHolders,\n",
    "    contactInformation, RingSize\n",
    "WHERE RingSize > 1\n",
    "RETURN AccountHolders AS FraudRing,\n",
    "    labels(contactInformation) AS ContactType,\n",
    "    RingSize\n",
    "ORDER BY RingSize DESC\n",
    "'''\n",
    "results = graph.run(query)\n",
    "\n",
    "for row in results:\n",
    "    print(row)"
   ]
  },
  {
   "cell_type": "code",
   "execution_count": 21,
   "metadata": {},
   "outputs": [
    {
     "name": "stdout",
     "output_type": "stream",
     "text": [
      "<Record FraudRing=[1003, 1002] ContactType=['Address'] RingSize=3 FinancialRisk=25387.0>\n",
      "<Record FraudRing=[1003, 1002] ContactType=['UKID'] RingSize=2 FinancialRisk=25387.0>\n",
      "<Record FraudRing=[1002] ContactType=['PhoneNumber'] RingSize=2 FinancialRisk=9046.0>\n"
     ]
    }
   ],
   "source": [
    "# Determine the financial risk of a possible fraud ring\n",
    "query = '''\n",
    "MATCH (accountHolder:AccountHolder)-[]->(contactInformation)\n",
    "\n",
    "WITH contactInformation,\n",
    "    count(accountHolder) AS RingSize\n",
    "MATCH (contactInformation)<-[]-(accountHolder),\n",
    "    (accountHolder)-[r:HAS_CREDITCARD|HAS_UNSECUREDLOAN]->(unsecuredAccount)\n",
    "    \n",
    "WITH collect(DISTINCT accountHolder.id) AS AccountHolders,\n",
    "    contactInformation, RingSize,\n",
    "    SUM(CASE type(r)\n",
    "        WHEN 'HAS_CREDITCARD' THEN unsecuredAccount.limit\n",
    "        WHEN 'HAS_UNSECUREDLOAN' THEN unsecuredAccount.balance\n",
    "        ELSE 0\n",
    "        END) as FinancialRisk\n",
    "WHERE RingSize > 1\n",
    "\n",
    "RETURN AccountHolders AS FraudRing,\n",
    "    labels(contactInformation) AS ContactType,\n",
    "    RingSize,\n",
    "    round(FinancialRisk) as FinancialRisk\n",
    "ORDER BY \tFinancialRisk DESC\n",
    "'''\n",
    "results = graph.run(query)\n",
    "\n",
    "for row in results:\n",
    "    print(row)"
   ]
  },
  {
   "cell_type": "code",
   "execution_count": null,
   "metadata": {},
   "outputs": [],
   "source": []
  },
  {
   "cell_type": "code",
   "execution_count": null,
   "metadata": {},
   "outputs": [],
   "source": []
  },
  {
   "cell_type": "code",
   "execution_count": null,
   "metadata": {},
   "outputs": [],
   "source": []
  }
 ],
 "metadata": {
  "kernelspec": {
   "display_name": "Python 3",
   "language": "python",
   "name": "python3"
  },
  "language_info": {
   "codemirror_mode": {
    "name": "ipython",
    "version": 3
   },
   "file_extension": ".py",
   "mimetype": "text/x-python",
   "name": "python",
   "nbconvert_exporter": "python",
   "pygments_lexer": "ipython3",
   "version": "3.7.4"
  }
 },
 "nbformat": 4,
 "nbformat_minor": 2
}
